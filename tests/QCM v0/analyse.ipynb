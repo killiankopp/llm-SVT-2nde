{
 "cells": [
  {
   "metadata": {},
   "cell_type": "markdown",
   "source": [
    "# Analyse du QCM du premier prompt\n",
    "préalable avoir installé Pandoc\n",
    "``` brew install pandoc```\n",
    "site officiel : https://pandoc.org/installing.html\n",
    "\n",
    "j'ai aussi installé\n",
    "```brew install mactex```"
   ],
   "id": "28bd2bd7beacd057"
  },
  {
   "metadata": {
    "ExecuteTime": {
     "end_time": "2024-10-16T20:20:15.037632Z",
     "start_time": "2024-10-16T20:20:13.158552Z"
    }
   },
   "cell_type": "code",
   "source": [
    "!pip install openpyxl\n",
    "!pip install odfpy \n",
    "!pip install python-docx\n",
    "!pip install pypandoc"
   ],
   "id": "3cdb5440e421c510",
   "outputs": [
    {
     "name": "stdout",
     "output_type": "stream",
     "text": [
      "Requirement already satisfied: openpyxl in /Users/killian/Karned/llm/llm-SVT-2nde/venv/lib/python3.12/site-packages (3.1.5)\r\n",
      "Requirement already satisfied: et-xmlfile in /Users/killian/Karned/llm/llm-SVT-2nde/venv/lib/python3.12/site-packages (from openpyxl) (1.1.0)\r\n",
      "Requirement already satisfied: odfpy in /Users/killian/Karned/llm/llm-SVT-2nde/venv/lib/python3.12/site-packages (1.4.1)\r\n",
      "Requirement already satisfied: defusedxml in /Users/killian/Karned/llm/llm-SVT-2nde/venv/lib/python3.12/site-packages (from odfpy) (0.7.1)\r\n",
      "Requirement already satisfied: python-docx in /Users/killian/Karned/llm/llm-SVT-2nde/venv/lib/python3.12/site-packages (1.1.2)\r\n",
      "Requirement already satisfied: lxml>=3.1.0 in /Users/killian/Karned/llm/llm-SVT-2nde/venv/lib/python3.12/site-packages (from python-docx) (5.3.0)\r\n",
      "Requirement already satisfied: typing-extensions>=4.9.0 in /Users/killian/Karned/llm/llm-SVT-2nde/venv/lib/python3.12/site-packages (from python-docx) (4.12.2)\r\n",
      "Collecting pypandoc\r\n",
      "  Downloading pypandoc-1.14-py3-none-any.whl.metadata (16 kB)\r\n",
      "Downloading pypandoc-1.14-py3-none-any.whl (21 kB)\r\n",
      "Installing collected packages: pypandoc\r\n",
      "Successfully installed pypandoc-1.14\r\n"
     ]
    }
   ],
   "execution_count": 15
  },
  {
   "metadata": {
    "ExecuteTime": {
     "end_time": "2024-10-16T19:59:02.874175Z",
     "start_time": "2024-10-16T19:58:55.689649Z"
    }
   },
   "cell_type": "code",
   "source": "import pandas as pd",
   "id": "33f10af701cb2320",
   "outputs": [],
   "execution_count": 1
  },
  {
   "metadata": {
    "ExecuteTime": {
     "end_time": "2024-10-16T20:02:57.943519Z",
     "start_time": "2024-10-16T20:02:57.930590Z"
    }
   },
   "cell_type": "code",
   "source": [
    "df = pd.read_csv('qcm.csv', sep = \";\")\n",
    "df"
   ],
   "id": "22bcd90f7ed3d334",
   "outputs": [
    {
     "data": {
      "text/plain": [
       "                                            Question  \\\n",
       "0             Qu'est-ce qu'une cellule spécialisée ?   \n",
       "1  Lequel des exemples suivants illustre une cell...   \n",
       "2  Comment les cellules spécialisées se forment-e...   \n",
       "3          Quel est le rôle des cellules nerveuses ?   \n",
       "4        Les globules rouges sont spécialisés pour :   \n",
       "5  Les cellules musculaires peuvent se contracter...   \n",
       "6       Les cellules osseuses sont responsables de :   \n",
       "7  Pourquoi est-il important d'avoir des cellules...   \n",
       "8  Laquelle des affirmations suivantes est FAUSSE...   \n",
       "9  L'étude des cellules spécialisées appartient à...   \n",
       "\n",
       "                                           Reponse_a  \\\n",
       "0       Une cellule qui peut se diviser indéfiniment   \n",
       "1   Une cellule musculaire capable de se contracter.   \n",
       "2                     Par division cellulaire simple   \n",
       "3                 Transporter l'oxygène dans le sang   \n",
       "4                           Combattre les infections   \n",
       "5  Des filaments protéiques qui glissent les uns ...   \n",
       "6                   La production de globules rouges   \n",
       "7  Pour permettre à l'organisme de réaliser diver...   \n",
       "8  Elles ont souvent une forme et une structure a...   \n",
       "9                                       La génétique   \n",
       "\n",
       "                                           Reponse_b  \\\n",
       "0  Une cellule qui a une fonction spécifique dans...   \n",
       "1  Une cellule nerveuse transmettant un signal él...   \n",
       "2  Par différenciation cellulaire, où une cellule...   \n",
       "3  Transmettre des informations sous forme d’impu...   \n",
       "4                 Transporter l'oxygène dans le sang   \n",
       "5  La production d'énergie par la respiration cel...   \n",
       "6            Le support et la protection des organes   \n",
       "7            Pour rendre l'organisme plus esthétique   \n",
       "8  Elles peuvent changer de fonction au cours de ...   \n",
       "9                                         L'écologie   \n",
       "\n",
       "                                           Reponse_c  \\\n",
       "0  Une cellule qui est plus petite que les autres...   \n",
       "1        Un globule rouge transportant de l’oxygène.   \n",
       "2                   Par mutation génétique aléatoire   \n",
       "3                               Digérer les aliments   \n",
       "4                                   Coaguler le sang   \n",
       "5            La présence de mitochondries nombreuses   \n",
       "6         La transmission des informations nerveuses   \n",
       "7            Pour augmenter la taille de l'organisme   \n",
       "8  Elles dérivent toutes d'une seule cellule init...   \n",
       "9                                     La physiologie   \n",
       "\n",
       "                                           Reponse_d Bonne_reponse  \n",
       "0                   Une cellule qui n'a pas de noyau             b  \n",
       "1                      Toutes les réponses ci-dessus             d  \n",
       "2     Elles sont déjà spécialisées dès leur création             b  \n",
       "3                             Contracter les muscles             b  \n",
       "4                             Produire des anticorps             b  \n",
       "5                      Toutes les réponses ci-dessus             d  \n",
       "6                          La digestion des aliments             b  \n",
       "7                     Pour faciliter la reproduction             a  \n",
       "8  Elles permettent aux organismes multicellulair...             b  \n",
       "9                      Toutes les réponses ci-dessus             d  "
      ],
      "text/html": [
       "<div>\n",
       "<style scoped>\n",
       "    .dataframe tbody tr th:only-of-type {\n",
       "        vertical-align: middle;\n",
       "    }\n",
       "\n",
       "    .dataframe tbody tr th {\n",
       "        vertical-align: top;\n",
       "    }\n",
       "\n",
       "    .dataframe thead th {\n",
       "        text-align: right;\n",
       "    }\n",
       "</style>\n",
       "<table border=\"1\" class=\"dataframe\">\n",
       "  <thead>\n",
       "    <tr style=\"text-align: right;\">\n",
       "      <th></th>\n",
       "      <th>Question</th>\n",
       "      <th>Reponse_a</th>\n",
       "      <th>Reponse_b</th>\n",
       "      <th>Reponse_c</th>\n",
       "      <th>Reponse_d</th>\n",
       "      <th>Bonne_reponse</th>\n",
       "    </tr>\n",
       "  </thead>\n",
       "  <tbody>\n",
       "    <tr>\n",
       "      <th>0</th>\n",
       "      <td>Qu'est-ce qu'une cellule spécialisée ?</td>\n",
       "      <td>Une cellule qui peut se diviser indéfiniment</td>\n",
       "      <td>Une cellule qui a une fonction spécifique dans...</td>\n",
       "      <td>Une cellule qui est plus petite que les autres...</td>\n",
       "      <td>Une cellule qui n'a pas de noyau</td>\n",
       "      <td>b</td>\n",
       "    </tr>\n",
       "    <tr>\n",
       "      <th>1</th>\n",
       "      <td>Lequel des exemples suivants illustre une cell...</td>\n",
       "      <td>Une cellule musculaire capable de se contracter.</td>\n",
       "      <td>Une cellule nerveuse transmettant un signal él...</td>\n",
       "      <td>Un globule rouge transportant de l’oxygène.</td>\n",
       "      <td>Toutes les réponses ci-dessus</td>\n",
       "      <td>d</td>\n",
       "    </tr>\n",
       "    <tr>\n",
       "      <th>2</th>\n",
       "      <td>Comment les cellules spécialisées se forment-e...</td>\n",
       "      <td>Par division cellulaire simple</td>\n",
       "      <td>Par différenciation cellulaire, où une cellule...</td>\n",
       "      <td>Par mutation génétique aléatoire</td>\n",
       "      <td>Elles sont déjà spécialisées dès leur création</td>\n",
       "      <td>b</td>\n",
       "    </tr>\n",
       "    <tr>\n",
       "      <th>3</th>\n",
       "      <td>Quel est le rôle des cellules nerveuses ?</td>\n",
       "      <td>Transporter l'oxygène dans le sang</td>\n",
       "      <td>Transmettre des informations sous forme d’impu...</td>\n",
       "      <td>Digérer les aliments</td>\n",
       "      <td>Contracter les muscles</td>\n",
       "      <td>b</td>\n",
       "    </tr>\n",
       "    <tr>\n",
       "      <th>4</th>\n",
       "      <td>Les globules rouges sont spécialisés pour :</td>\n",
       "      <td>Combattre les infections</td>\n",
       "      <td>Transporter l'oxygène dans le sang</td>\n",
       "      <td>Coaguler le sang</td>\n",
       "      <td>Produire des anticorps</td>\n",
       "      <td>b</td>\n",
       "    </tr>\n",
       "    <tr>\n",
       "      <th>5</th>\n",
       "      <td>Les cellules musculaires peuvent se contracter...</td>\n",
       "      <td>Des filaments protéiques qui glissent les uns ...</td>\n",
       "      <td>La production d'énergie par la respiration cel...</td>\n",
       "      <td>La présence de mitochondries nombreuses</td>\n",
       "      <td>Toutes les réponses ci-dessus</td>\n",
       "      <td>d</td>\n",
       "    </tr>\n",
       "    <tr>\n",
       "      <th>6</th>\n",
       "      <td>Les cellules osseuses sont responsables de :</td>\n",
       "      <td>La production de globules rouges</td>\n",
       "      <td>Le support et la protection des organes</td>\n",
       "      <td>La transmission des informations nerveuses</td>\n",
       "      <td>La digestion des aliments</td>\n",
       "      <td>b</td>\n",
       "    </tr>\n",
       "    <tr>\n",
       "      <th>7</th>\n",
       "      <td>Pourquoi est-il important d'avoir des cellules...</td>\n",
       "      <td>Pour permettre à l'organisme de réaliser diver...</td>\n",
       "      <td>Pour rendre l'organisme plus esthétique</td>\n",
       "      <td>Pour augmenter la taille de l'organisme</td>\n",
       "      <td>Pour faciliter la reproduction</td>\n",
       "      <td>a</td>\n",
       "    </tr>\n",
       "    <tr>\n",
       "      <th>8</th>\n",
       "      <td>Laquelle des affirmations suivantes est FAUSSE...</td>\n",
       "      <td>Elles ont souvent une forme et une structure a...</td>\n",
       "      <td>Elles peuvent changer de fonction au cours de ...</td>\n",
       "      <td>Elles dérivent toutes d'une seule cellule init...</td>\n",
       "      <td>Elles permettent aux organismes multicellulair...</td>\n",
       "      <td>b</td>\n",
       "    </tr>\n",
       "    <tr>\n",
       "      <th>9</th>\n",
       "      <td>L'étude des cellules spécialisées appartient à...</td>\n",
       "      <td>La génétique</td>\n",
       "      <td>L'écologie</td>\n",
       "      <td>La physiologie</td>\n",
       "      <td>Toutes les réponses ci-dessus</td>\n",
       "      <td>d</td>\n",
       "    </tr>\n",
       "  </tbody>\n",
       "</table>\n",
       "</div>"
      ]
     },
     "execution_count": 3,
     "metadata": {},
     "output_type": "execute_result"
    }
   ],
   "execution_count": 3
  },
  {
   "metadata": {},
   "cell_type": "markdown",
   "source": "## enregistrement au format Xslx et ODS",
   "id": "a66d3e5c3d46eaf8"
  },
  {
   "metadata": {
    "ExecuteTime": {
     "end_time": "2024-10-16T20:06:42.777467Z",
     "start_time": "2024-10-16T20:06:42.723115Z"
    }
   },
   "cell_type": "code",
   "source": "df.to_excel('qcm.xlsx')",
   "id": "e10d0ed3339a20c3",
   "outputs": [],
   "execution_count": 8
  },
  {
   "metadata": {
    "ExecuteTime": {
     "end_time": "2024-10-16T20:08:08.070370Z",
     "start_time": "2024-10-16T20:08:08.045473Z"
    }
   },
   "cell_type": "code",
   "source": "df.to_excel('qcm.ods')",
   "id": "7323c89b2f6ffe10",
   "outputs": [],
   "execution_count": 11
  },
  {
   "metadata": {},
   "cell_type": "markdown",
   "source": "## convertion en word",
   "id": "eaed72ff487307c8"
  },
  {
   "metadata": {
    "ExecuteTime": {
     "end_time": "2024-10-16T20:36:56.382723Z",
     "start_time": "2024-10-16T20:36:56.352157Z"
    }
   },
   "cell_type": "code",
   "source": [
    "import csv\n",
    "from docx import Document\n",
    "from docx.shared import Pt\n",
    "\n",
    "doc = Document()\n",
    "\n",
    "with open('qcm.csv', 'r', encoding='utf-8') as file:\n",
    "    reader = csv.reader(file, delimiter=';')\n",
    "    \n",
    "    next(reader)\n",
    "    \n",
    "    i = 0\n",
    "    \n",
    "    for row in reader:\n",
    "        if len(row) < 5:\n",
    "            continue\n",
    "        i+=1\n",
    "        \n",
    "        question = row[0]\n",
    "        reponse_a = row[1]\n",
    "        reponse_b = row[2]\n",
    "        reponse_c = row[3]\n",
    "        reponse_d = row[4]\n",
    "        \n",
    "        doc.add_paragraph(str(i) + ' ' + question, style='Heading 2')\n",
    "        \n",
    "        doc.add_paragraph('☐ A. ' + reponse_a + '\\n' + '☐ B. ' + reponse_b + '\\n' + '☐ C. ' + reponse_c + '\\n' + '☐ D. ' + reponse_d)\n",
    "\n",
    "doc.save('qcm_svt.docx')"
   ],
   "id": "71d9be6813e94dcb",
   "outputs": [],
   "execution_count": 23
  },
  {
   "metadata": {},
   "cell_type": "markdown",
   "source": "## convert to pdf",
   "id": "fe02d689f23c4ee"
  },
  {
   "metadata": {
    "ExecuteTime": {
     "end_time": "2024-10-16T20:24:21.538820Z",
     "start_time": "2024-10-16T20:24:19.054415Z"
    }
   },
   "cell_type": "code",
   "source": [
    "import pypandoc\n",
    "\n",
    "docx_file = \"qcm_svt.docx\"\n",
    "output_pdf = \"qcm_svt.pdf\"\n",
    "\n",
    "pypandoc.convert_file(docx_file, 'pdf', outputfile=output_pdf)\n",
    "\n",
    "print(f\"Conversion terminée : {output_pdf}\")"
   ],
   "id": "c121fe4821491650",
   "outputs": [
    {
     "ename": "RuntimeError",
     "evalue": "Pandoc died with exitcode \"47\" during conversion: pdflatex not found. Please select a different --pdf-engine or install pdflatex\n",
     "output_type": "error",
     "traceback": [
      "\u001B[0;31m---------------------------------------------------------------------------\u001B[0m",
      "\u001B[0;31mRuntimeError\u001B[0m                              Traceback (most recent call last)",
      "Cell \u001B[0;32mIn[18], line 6\u001B[0m\n\u001B[1;32m      3\u001B[0m docx_file \u001B[38;5;241m=\u001B[39m \u001B[38;5;124m\"\u001B[39m\u001B[38;5;124mqcm_svt.docx\u001B[39m\u001B[38;5;124m\"\u001B[39m\n\u001B[1;32m      4\u001B[0m output_pdf \u001B[38;5;241m=\u001B[39m \u001B[38;5;124m\"\u001B[39m\u001B[38;5;124mqcm_svt.pdf\u001B[39m\u001B[38;5;124m\"\u001B[39m\n\u001B[0;32m----> 6\u001B[0m \u001B[43mpypandoc\u001B[49m\u001B[38;5;241;43m.\u001B[39;49m\u001B[43mconvert_file\u001B[49m\u001B[43m(\u001B[49m\u001B[43mdocx_file\u001B[49m\u001B[43m,\u001B[49m\u001B[43m \u001B[49m\u001B[38;5;124;43m'\u001B[39;49m\u001B[38;5;124;43mpdf\u001B[39;49m\u001B[38;5;124;43m'\u001B[39;49m\u001B[43m,\u001B[49m\u001B[43m \u001B[49m\u001B[43moutputfile\u001B[49m\u001B[38;5;241;43m=\u001B[39;49m\u001B[43moutput_pdf\u001B[49m\u001B[43m)\u001B[49m\n\u001B[1;32m      8\u001B[0m \u001B[38;5;28mprint\u001B[39m(\u001B[38;5;124mf\u001B[39m\u001B[38;5;124m\"\u001B[39m\u001B[38;5;124mConversion terminée : \u001B[39m\u001B[38;5;132;01m{\u001B[39;00moutput_pdf\u001B[38;5;132;01m}\u001B[39;00m\u001B[38;5;124m\"\u001B[39m)\n",
      "File \u001B[0;32m~/Karned/llm/llm-SVT-2nde/venv/lib/python3.12/site-packages/pypandoc/__init__.py:200\u001B[0m, in \u001B[0;36mconvert_file\u001B[0;34m(source_file, to, format, extra_args, encoding, outputfile, filters, verify_format, sandbox, cworkdir)\u001B[0m\n\u001B[1;32m    197\u001B[0m \u001B[38;5;28;01mif\u001B[39;00m \u001B[38;5;28mlen\u001B[39m(discovered_source_files) \u001B[38;5;241m==\u001B[39m \u001B[38;5;241m1\u001B[39m:\n\u001B[1;32m    198\u001B[0m     discovered_source_files \u001B[38;5;241m=\u001B[39m discovered_source_files[\u001B[38;5;241m0\u001B[39m]\n\u001B[0;32m--> 200\u001B[0m \u001B[38;5;28;01mreturn\u001B[39;00m \u001B[43m_convert_input\u001B[49m\u001B[43m(\u001B[49m\u001B[43mdiscovered_source_files\u001B[49m\u001B[43m,\u001B[49m\u001B[43m \u001B[49m\u001B[38;5;28;43mformat\u001B[39;49m\u001B[43m,\u001B[49m\u001B[43m \u001B[49m\u001B[38;5;124;43m'\u001B[39;49m\u001B[38;5;124;43mpath\u001B[39;49m\u001B[38;5;124;43m'\u001B[39;49m\u001B[43m,\u001B[49m\u001B[43m \u001B[49m\u001B[43mto\u001B[49m\u001B[43m,\u001B[49m\u001B[43m \u001B[49m\u001B[43mextra_args\u001B[49m\u001B[38;5;241;43m=\u001B[39;49m\u001B[43mextra_args\u001B[49m\u001B[43m,\u001B[49m\n\u001B[1;32m    201\u001B[0m \u001B[43m                  \u001B[49m\u001B[43moutputfile\u001B[49m\u001B[38;5;241;43m=\u001B[39;49m\u001B[43moutputfile\u001B[49m\u001B[43m,\u001B[49m\u001B[43m \u001B[49m\u001B[43mfilters\u001B[49m\u001B[38;5;241;43m=\u001B[39;49m\u001B[43mfilters\u001B[49m\u001B[43m,\u001B[49m\n\u001B[1;32m    202\u001B[0m \u001B[43m                  \u001B[49m\u001B[43mverify_format\u001B[49m\u001B[38;5;241;43m=\u001B[39;49m\u001B[43mverify_format\u001B[49m\u001B[43m,\u001B[49m\u001B[43m \u001B[49m\u001B[43msandbox\u001B[49m\u001B[38;5;241;43m=\u001B[39;49m\u001B[43msandbox\u001B[49m\u001B[43m,\u001B[49m\n\u001B[1;32m    203\u001B[0m \u001B[43m                  \u001B[49m\u001B[43mcworkdir\u001B[49m\u001B[38;5;241;43m=\u001B[39;49m\u001B[43mcworkdir\u001B[49m\u001B[43m)\u001B[49m\n",
      "File \u001B[0;32m~/Karned/llm/llm-SVT-2nde/venv/lib/python3.12/site-packages/pypandoc/__init__.py:467\u001B[0m, in \u001B[0;36m_convert_input\u001B[0;34m(source, format, input_type, to, extra_args, outputfile, filters, verify_format, sandbox, cworkdir)\u001B[0m\n\u001B[1;32m    465\u001B[0m \u001B[38;5;66;03m# check that pandoc returned successfully\u001B[39;00m\n\u001B[1;32m    466\u001B[0m \u001B[38;5;28;01mif\u001B[39;00m p\u001B[38;5;241m.\u001B[39mreturncode \u001B[38;5;241m!=\u001B[39m \u001B[38;5;241m0\u001B[39m:\n\u001B[0;32m--> 467\u001B[0m     \u001B[38;5;28;01mraise\u001B[39;00m \u001B[38;5;167;01mRuntimeError\u001B[39;00m(\n\u001B[1;32m    468\u001B[0m         \u001B[38;5;124m'\u001B[39m\u001B[38;5;124mPandoc died with exitcode \u001B[39m\u001B[38;5;124m\"\u001B[39m\u001B[38;5;132;01m%s\u001B[39;00m\u001B[38;5;124m\"\u001B[39m\u001B[38;5;124m during conversion: \u001B[39m\u001B[38;5;132;01m%s\u001B[39;00m\u001B[38;5;124m'\u001B[39m \u001B[38;5;241m%\u001B[39m (p\u001B[38;5;241m.\u001B[39mreturncode, stderr)\n\u001B[1;32m    469\u001B[0m     )\n\u001B[1;32m    471\u001B[0m \u001B[38;5;66;03m# if there is output on stderr, process it and send to logger\u001B[39;00m\n\u001B[1;32m    472\u001B[0m \u001B[38;5;28;01mif\u001B[39;00m stderr:\n",
      "\u001B[0;31mRuntimeError\u001B[0m: Pandoc died with exitcode \"47\" during conversion: pdflatex not found. Please select a different --pdf-engine or install pdflatex\n"
     ]
    }
   ],
   "execution_count": 18
  }
 ],
 "metadata": {
  "kernelspec": {
   "display_name": "Python 3",
   "language": "python",
   "name": "python3"
  },
  "language_info": {
   "codemirror_mode": {
    "name": "ipython",
    "version": 2
   },
   "file_extension": ".py",
   "mimetype": "text/x-python",
   "name": "python",
   "nbconvert_exporter": "python",
   "pygments_lexer": "ipython2",
   "version": "2.7.6"
  }
 },
 "nbformat": 4,
 "nbformat_minor": 5
}
