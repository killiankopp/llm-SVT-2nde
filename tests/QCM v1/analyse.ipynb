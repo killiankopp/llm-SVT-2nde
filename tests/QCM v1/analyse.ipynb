{
 "cells": [
  {
   "metadata": {},
   "cell_type": "markdown",
   "source": [
    "# Analyse du QCM du premier prompt\n",
    "préalable avoir installé Pandoc\n",
    "``` brew install pandoc```\n",
    "site officiel : https://pandoc.org/installing.html\n",
    "\n",
    "j'ai aussi installé\n",
    "```brew install mactex```"
   ],
   "id": "28bd2bd7beacd057"
  },
  {
   "metadata": {
    "ExecuteTime": {
     "end_time": "2024-10-16T21:04:08.806727Z",
     "start_time": "2024-10-16T21:04:06.543664Z"
    }
   },
   "cell_type": "code",
   "source": [
    "!pip install openpyxl\n",
    "!pip install odfpy \n",
    "!pip install python-docx\n",
    "#!pip install pypandoc\n",
    "!pip install docx2pdf"
   ],
   "id": "3cdb5440e421c510",
   "outputs": [
    {
     "name": "stdout",
     "output_type": "stream",
     "text": [
      "Requirement already satisfied: openpyxl in /Users/killian/Karned/llm/llm-SVT-2nde/venv/lib/python3.12/site-packages (3.1.5)\r\n",
      "Requirement already satisfied: et-xmlfile in /Users/killian/Karned/llm/llm-SVT-2nde/venv/lib/python3.12/site-packages (from openpyxl) (1.1.0)\r\n",
      "Requirement already satisfied: odfpy in /Users/killian/Karned/llm/llm-SVT-2nde/venv/lib/python3.12/site-packages (1.4.1)\r\n",
      "Requirement already satisfied: defusedxml in /Users/killian/Karned/llm/llm-SVT-2nde/venv/lib/python3.12/site-packages (from odfpy) (0.7.1)\r\n",
      "Requirement already satisfied: python-docx in /Users/killian/Karned/llm/llm-SVT-2nde/venv/lib/python3.12/site-packages (1.1.2)\r\n",
      "Requirement already satisfied: lxml>=3.1.0 in /Users/killian/Karned/llm/llm-SVT-2nde/venv/lib/python3.12/site-packages (from python-docx) (5.3.0)\r\n",
      "Requirement already satisfied: typing-extensions>=4.9.0 in /Users/killian/Karned/llm/llm-SVT-2nde/venv/lib/python3.12/site-packages (from python-docx) (4.12.2)\r\n",
      "Collecting docx2pdf\r\n",
      "  Downloading docx2pdf-0.1.8-py3-none-any.whl.metadata (3.3 kB)\r\n",
      "Collecting appscript>=1.1.0 (from docx2pdf)\r\n",
      "  Downloading appscript-1.3.0-cp312-cp312-macosx_10_13_universal2.whl.metadata (417 bytes)\r\n",
      "Collecting tqdm>=4.41.0 (from docx2pdf)\r\n",
      "  Using cached tqdm-4.66.5-py3-none-any.whl.metadata (57 kB)\r\n",
      "Requirement already satisfied: lxml>=4.7.1 in /Users/killian/Karned/llm/llm-SVT-2nde/venv/lib/python3.12/site-packages (from appscript>=1.1.0->docx2pdf) (5.3.0)\r\n",
      "Downloading docx2pdf-0.1.8-py3-none-any.whl (6.7 kB)\r\n",
      "Downloading appscript-1.3.0-cp312-cp312-macosx_10_13_universal2.whl (99 kB)\r\n",
      "Using cached tqdm-4.66.5-py3-none-any.whl (78 kB)\r\n",
      "Installing collected packages: tqdm, appscript, docx2pdf\r\n",
      "Successfully installed appscript-1.3.0 docx2pdf-0.1.8 tqdm-4.66.5\r\n"
     ]
    }
   ],
   "execution_count": 9
  },
  {
   "metadata": {
    "ExecuteTime": {
     "end_time": "2024-11-23T13:42:34.794633Z",
     "start_time": "2024-11-23T13:42:31.453218Z"
    }
   },
   "cell_type": "code",
   "source": "import pandas as pd",
   "id": "33f10af701cb2320",
   "outputs": [],
   "execution_count": 1
  },
  {
   "metadata": {
    "ExecuteTime": {
     "end_time": "2024-11-25T08:11:24.259172Z",
     "start_time": "2024-11-25T08:11:24.251483Z"
    }
   },
   "cell_type": "code",
   "source": [
    "df = pd.read_csv('qcm.csv', sep = \";\")\n",
    "df"
   ],
   "id": "22bcd90f7ed3d334",
   "outputs": [
    {
     "data": {
      "text/plain": [
       "                                            Question  \\\n",
       "0  Qu'est-ce qui caractérise une cellule autotrophe?   \n",
       "1  Quel est le rôle principal des mitochondries d...   \n",
       "2    Dans quel organite se déroule la photosynthèse?   \n",
       "3                 Qu'est-ce qu'une voie métabolique?   \n",
       "4  Quel est le rôle des enzymes dans le métabolisme?   \n",
       "5  Comment fonctionne une relation de type mycorh...   \n",
       "6  Que se passe-t-il lors de la respiration cellu...   \n",
       "7  Quel est le produit principal de la photosynth...   \n",
       "8           Comment les pucerons se nourrissent-ils?   \n",
       "9  Quel est le rôle des vaisseaux conducteurs che...   \n",
       "\n",
       "                                           Réponse A  \\\n",
       "0  Elle produit sa matière organique à partir de ...   \n",
       "1                                   La photosynthèse   \n",
       "2                                           Le noyau   \n",
       "3        Une succession de transformations chimiques   \n",
       "4                    Bloquer les réactions chimiques   \n",
       "5                     Le champignon parasite l'arbre   \n",
       "6                              Production de glucose   \n",
       "7                                              L'eau   \n",
       "8                           En mangeant les feuilles   \n",
       "9                   Transport des déchets uniquement   \n",
       "\n",
       "                                           Réponse B  \\\n",
       "0  Elle utilise uniquement la matière organique d...   \n",
       "1            La production d'énergie par respiration   \n",
       "2                                    La mitochondrie   \n",
       "3                             Un type de respiration   \n",
       "4                       Ralentir les transformations   \n",
       "5                       Échange mutuel de nutriments   \n",
       "6     Consommation d'oxygène et production d'énergie   \n",
       "7                              Le dioxyde de carbone   \n",
       "8                      En absorbant la sève élaborée   \n",
       "9                                Stockage des sucres   \n",
       "\n",
       "                                    Réponse C                     Réponse D  \\\n",
       "0  Elle ne peut pas réaliser la photosynthèse  Elle n'a pas de chloroplaste   \n",
       "1                     Le stockage des déchets     La synthèse des protéines   \n",
       "2                             Le chloroplaste         La membrane plasmique   \n",
       "3                      Un organite cellulaire           Un type de membrane   \n",
       "4                     Catalyser les réactions             Stocker l'énergie   \n",
       "5                   Le champignon tue l'arbre  L'arbre digère le champignon   \n",
       "6                Production de CO2 uniquement      Synthèse de chlorophylle   \n",
       "7                                Le dioxygène                    Le glucose   \n",
       "8                  En consommant des insectes   En faisant la photosynthèse   \n",
       "9      Transport de la sève brute et élaborée          Production d'énergie   \n",
       "\n",
       "  Bonne réponse                                        Commentaire  \n",
       "0             A  Les cellules autotrophes, comme celles des pla...  \n",
       "1             B  Les mitochondries sont le siège de la respirat...  \n",
       "2             C  Les chloroplastes contiennent la chlorophylle ...  \n",
       "3             A  Une voie métabolique est une succession de tra...  \n",
       "4             C  Les enzymes sont des molécules qui permettent ...  \n",
       "5             B  La mycorhize est une association bénéfique où ...  \n",
       "6             B  La respiration cellulaire utilise l'oxygène po...  \n",
       "7             D  La photosynthèse produit du glucose (molécule ...  \n",
       "8             B  Les pucerons utilisent leur stylet pour percer...  \n",
       "9             C  Les vaisseaux conducteurs permettent la circul...  "
      ],
      "text/html": [
       "<div>\n",
       "<style scoped>\n",
       "    .dataframe tbody tr th:only-of-type {\n",
       "        vertical-align: middle;\n",
       "    }\n",
       "\n",
       "    .dataframe tbody tr th {\n",
       "        vertical-align: top;\n",
       "    }\n",
       "\n",
       "    .dataframe thead th {\n",
       "        text-align: right;\n",
       "    }\n",
       "</style>\n",
       "<table border=\"1\" class=\"dataframe\">\n",
       "  <thead>\n",
       "    <tr style=\"text-align: right;\">\n",
       "      <th></th>\n",
       "      <th>Question</th>\n",
       "      <th>Réponse A</th>\n",
       "      <th>Réponse B</th>\n",
       "      <th>Réponse C</th>\n",
       "      <th>Réponse D</th>\n",
       "      <th>Bonne réponse</th>\n",
       "      <th>Commentaire</th>\n",
       "    </tr>\n",
       "  </thead>\n",
       "  <tbody>\n",
       "    <tr>\n",
       "      <th>0</th>\n",
       "      <td>Qu'est-ce qui caractérise une cellule autotrophe?</td>\n",
       "      <td>Elle produit sa matière organique à partir de ...</td>\n",
       "      <td>Elle utilise uniquement la matière organique d...</td>\n",
       "      <td>Elle ne peut pas réaliser la photosynthèse</td>\n",
       "      <td>Elle n'a pas de chloroplaste</td>\n",
       "      <td>A</td>\n",
       "      <td>Les cellules autotrophes, comme celles des pla...</td>\n",
       "    </tr>\n",
       "    <tr>\n",
       "      <th>1</th>\n",
       "      <td>Quel est le rôle principal des mitochondries d...</td>\n",
       "      <td>La photosynthèse</td>\n",
       "      <td>La production d'énergie par respiration</td>\n",
       "      <td>Le stockage des déchets</td>\n",
       "      <td>La synthèse des protéines</td>\n",
       "      <td>B</td>\n",
       "      <td>Les mitochondries sont le siège de la respirat...</td>\n",
       "    </tr>\n",
       "    <tr>\n",
       "      <th>2</th>\n",
       "      <td>Dans quel organite se déroule la photosynthèse?</td>\n",
       "      <td>Le noyau</td>\n",
       "      <td>La mitochondrie</td>\n",
       "      <td>Le chloroplaste</td>\n",
       "      <td>La membrane plasmique</td>\n",
       "      <td>C</td>\n",
       "      <td>Les chloroplastes contiennent la chlorophylle ...</td>\n",
       "    </tr>\n",
       "    <tr>\n",
       "      <th>3</th>\n",
       "      <td>Qu'est-ce qu'une voie métabolique?</td>\n",
       "      <td>Une succession de transformations chimiques</td>\n",
       "      <td>Un type de respiration</td>\n",
       "      <td>Un organite cellulaire</td>\n",
       "      <td>Un type de membrane</td>\n",
       "      <td>A</td>\n",
       "      <td>Une voie métabolique est une succession de tra...</td>\n",
       "    </tr>\n",
       "    <tr>\n",
       "      <th>4</th>\n",
       "      <td>Quel est le rôle des enzymes dans le métabolisme?</td>\n",
       "      <td>Bloquer les réactions chimiques</td>\n",
       "      <td>Ralentir les transformations</td>\n",
       "      <td>Catalyser les réactions</td>\n",
       "      <td>Stocker l'énergie</td>\n",
       "      <td>C</td>\n",
       "      <td>Les enzymes sont des molécules qui permettent ...</td>\n",
       "    </tr>\n",
       "    <tr>\n",
       "      <th>5</th>\n",
       "      <td>Comment fonctionne une relation de type mycorh...</td>\n",
       "      <td>Le champignon parasite l'arbre</td>\n",
       "      <td>Échange mutuel de nutriments</td>\n",
       "      <td>Le champignon tue l'arbre</td>\n",
       "      <td>L'arbre digère le champignon</td>\n",
       "      <td>B</td>\n",
       "      <td>La mycorhize est une association bénéfique où ...</td>\n",
       "    </tr>\n",
       "    <tr>\n",
       "      <th>6</th>\n",
       "      <td>Que se passe-t-il lors de la respiration cellu...</td>\n",
       "      <td>Production de glucose</td>\n",
       "      <td>Consommation d'oxygène et production d'énergie</td>\n",
       "      <td>Production de CO2 uniquement</td>\n",
       "      <td>Synthèse de chlorophylle</td>\n",
       "      <td>B</td>\n",
       "      <td>La respiration cellulaire utilise l'oxygène po...</td>\n",
       "    </tr>\n",
       "    <tr>\n",
       "      <th>7</th>\n",
       "      <td>Quel est le produit principal de la photosynth...</td>\n",
       "      <td>L'eau</td>\n",
       "      <td>Le dioxyde de carbone</td>\n",
       "      <td>Le dioxygène</td>\n",
       "      <td>Le glucose</td>\n",
       "      <td>D</td>\n",
       "      <td>La photosynthèse produit du glucose (molécule ...</td>\n",
       "    </tr>\n",
       "    <tr>\n",
       "      <th>8</th>\n",
       "      <td>Comment les pucerons se nourrissent-ils?</td>\n",
       "      <td>En mangeant les feuilles</td>\n",
       "      <td>En absorbant la sève élaborée</td>\n",
       "      <td>En consommant des insectes</td>\n",
       "      <td>En faisant la photosynthèse</td>\n",
       "      <td>B</td>\n",
       "      <td>Les pucerons utilisent leur stylet pour percer...</td>\n",
       "    </tr>\n",
       "    <tr>\n",
       "      <th>9</th>\n",
       "      <td>Quel est le rôle des vaisseaux conducteurs che...</td>\n",
       "      <td>Transport des déchets uniquement</td>\n",
       "      <td>Stockage des sucres</td>\n",
       "      <td>Transport de la sève brute et élaborée</td>\n",
       "      <td>Production d'énergie</td>\n",
       "      <td>C</td>\n",
       "      <td>Les vaisseaux conducteurs permettent la circul...</td>\n",
       "    </tr>\n",
       "  </tbody>\n",
       "</table>\n",
       "</div>"
      ]
     },
     "execution_count": 14,
     "metadata": {},
     "output_type": "execute_result"
    }
   ],
   "execution_count": 14
  },
  {
   "metadata": {},
   "cell_type": "markdown",
   "source": "## enregistrement au format Xslx et ODS",
   "id": "a66d3e5c3d46eaf8"
  },
  {
   "metadata": {
    "ExecuteTime": {
     "end_time": "2024-11-25T08:12:02.508655Z",
     "start_time": "2024-11-25T08:12:02.499038Z"
    }
   },
   "cell_type": "code",
   "source": "df.to_excel('qcm.xlsx')",
   "id": "e10d0ed3339a20c3",
   "outputs": [],
   "execution_count": 15
  },
  {
   "metadata": {
    "ExecuteTime": {
     "end_time": "2024-11-25T08:12:04.235092Z",
     "start_time": "2024-11-25T08:12:04.214003Z"
    }
   },
   "cell_type": "code",
   "source": "df.to_excel('qcm.ods')",
   "id": "7323c89b2f6ffe10",
   "outputs": [],
   "execution_count": 16
  },
  {
   "metadata": {},
   "cell_type": "markdown",
   "source": "## convertion en word",
   "id": "eaed72ff487307c8"
  },
  {
   "metadata": {
    "ExecuteTime": {
     "end_time": "2024-11-25T08:12:07.029318Z",
     "start_time": "2024-11-25T08:12:07.000226Z"
    }
   },
   "cell_type": "code",
   "source": [
    "import csv\n",
    "from docx import Document\n",
    "from docx.shared import Pt\n",
    "\n",
    "doc = Document()\n",
    "\n",
    "with open('qcm.csv', 'r', encoding='utf-8') as file:\n",
    "    reader = csv.reader(file, delimiter=';')\n",
    "    \n",
    "    next(reader)\n",
    "    \n",
    "    i = 0\n",
    "    \n",
    "    for row in reader:\n",
    "        if len(row) < 5:\n",
    "            print(len(row))\n",
    "            continue\n",
    "        i+=1\n",
    "        \n",
    "        question = row[0]\n",
    "        reponse_a = row[1]\n",
    "        reponse_b = row[2]\n",
    "        reponse_c = row[3]\n",
    "        reponse_d = row[4]\n",
    "        \n",
    "        doc.add_paragraph(str(i) + ' ' + question, style='Heading 2')\n",
    "        \n",
    "        doc.add_paragraph('☐ A. ' + reponse_a + '\\n' + '☐ B. ' + reponse_b + '\\n' + '☐ C. ' + reponse_c + '\\n' + '☐ D. ' + reponse_d)\n",
    "\n",
    "doc.save('qcm_svt.docx')"
   ],
   "id": "71d9be6813e94dcb",
   "outputs": [],
   "execution_count": 17
  },
  {
   "metadata": {},
   "cell_type": "markdown",
   "source": "## convert to pdf",
   "id": "fe02d689f23c4ee"
  },
  {
   "metadata": {
    "ExecuteTime": {
     "end_time": "2024-11-25T08:12:41.535659Z",
     "start_time": "2024-11-25T08:12:38.980729Z"
    }
   },
   "cell_type": "code",
   "source": [
    "from docx2pdf import convert\n",
    "\n",
    "docx_file = \"qcm_svt.docx\"\n",
    "output_pdf = \"qcm_svt.pdf\"\n",
    "\n",
    "convert(docx_file, output_pdf)\n",
    "\n",
    "print(f\"Conversion terminée : {output_pdf}\")"
   ],
   "id": "c121fe4821491650",
   "outputs": [
    {
     "data": {
      "text/plain": [
       "  0%|          | 0/1 [00:00<?, ?it/s]"
      ],
      "application/vnd.jupyter.widget-view+json": {
       "version_major": 2,
       "version_minor": 0,
       "model_id": "d82bd23d639a4bc0b2dc8f43246c1ea4"
      }
     },
     "metadata": {},
     "output_type": "display_data"
    },
    {
     "name": "stdout",
     "output_type": "stream",
     "text": [
      "Conversion terminée : qcm_svt.pdf\n"
     ]
    }
   ],
   "execution_count": 19
  }
 ],
 "metadata": {
  "kernelspec": {
   "display_name": "Python 3",
   "language": "python",
   "name": "python3"
  },
  "language_info": {
   "codemirror_mode": {
    "name": "ipython",
    "version": 2
   },
   "file_extension": ".py",
   "mimetype": "text/x-python",
   "name": "python",
   "nbconvert_exporter": "python",
   "pygments_lexer": "ipython2",
   "version": "2.7.6"
  }
 },
 "nbformat": 4,
 "nbformat_minor": 5
}
